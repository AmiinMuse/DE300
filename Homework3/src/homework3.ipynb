{
  "nbformat": 4,
  "nbformat_minor": 0,
  "metadata": {
    "colab": {
      "provenance": []
    },
    "kernelspec": {
      "name": "python3",
      "display_name": "Python 3"
    },
    "language_info": {
      "name": "python"
    }
  },
  "cells": [
    {
      "cell_type": "markdown",
      "source": [
        "# **Homework 3**"
      ],
      "metadata": {
        "id": "SHKV933t5Q6m"
      }
    },
    {
      "cell_type": "code",
      "source": [
        "!pip install pyspark\n",
        "# !pip install --upgrade pyspark\n",
        "# !pip install pyspark\n",
        "!pip install scrapy"
      ],
      "metadata": {
        "collapsed": true,
        "id": "fbUNYCVGafXv",
        "colab": {
          "base_uri": "https://localhost:8080/"
        },
        "outputId": "3d7d7ef6-1729-4a23-8fbc-d3a5b009e145"
      },
      "execution_count": 43,
      "outputs": [
        {
          "output_type": "stream",
          "name": "stdout",
          "text": [
            "Requirement already satisfied: pyspark in /usr/local/lib/python3.10/dist-packages (3.5.1)\n",
            "Requirement already satisfied: py4j==0.10.9.7 in /usr/local/lib/python3.10/dist-packages (from pyspark) (0.10.9.7)\n",
            "Requirement already satisfied: scrapy in /usr/local/lib/python3.10/dist-packages (2.11.2)\n",
            "Requirement already satisfied: Twisted>=18.9.0 in /usr/local/lib/python3.10/dist-packages (from scrapy) (24.3.0)\n",
            "Requirement already satisfied: cryptography>=36.0.0 in /usr/local/lib/python3.10/dist-packages (from scrapy) (42.0.7)\n",
            "Requirement already satisfied: cssselect>=0.9.1 in /usr/local/lib/python3.10/dist-packages (from scrapy) (1.2.0)\n",
            "Requirement already satisfied: itemloaders>=1.0.1 in /usr/local/lib/python3.10/dist-packages (from scrapy) (1.3.1)\n",
            "Requirement already satisfied: parsel>=1.5.0 in /usr/local/lib/python3.10/dist-packages (from scrapy) (1.9.1)\n",
            "Requirement already satisfied: pyOpenSSL>=21.0.0 in /usr/local/lib/python3.10/dist-packages (from scrapy) (24.1.0)\n",
            "Requirement already satisfied: queuelib>=1.4.2 in /usr/local/lib/python3.10/dist-packages (from scrapy) (1.7.0)\n",
            "Requirement already satisfied: service-identity>=18.1.0 in /usr/local/lib/python3.10/dist-packages (from scrapy) (24.1.0)\n",
            "Requirement already satisfied: w3lib>=1.17.0 in /usr/local/lib/python3.10/dist-packages (from scrapy) (2.2.0)\n",
            "Requirement already satisfied: zope.interface>=5.1.0 in /usr/local/lib/python3.10/dist-packages (from scrapy) (6.4.post2)\n",
            "Requirement already satisfied: protego>=0.1.15 in /usr/local/lib/python3.10/dist-packages (from scrapy) (0.3.1)\n",
            "Requirement already satisfied: itemadapter>=0.1.0 in /usr/local/lib/python3.10/dist-packages (from scrapy) (0.9.0)\n",
            "Requirement already satisfied: setuptools in /usr/local/lib/python3.10/dist-packages (from scrapy) (67.7.2)\n",
            "Requirement already satisfied: packaging in /usr/local/lib/python3.10/dist-packages (from scrapy) (24.0)\n",
            "Requirement already satisfied: tldextract in /usr/local/lib/python3.10/dist-packages (from scrapy) (5.1.2)\n",
            "Requirement already satisfied: lxml>=4.4.1 in /usr/local/lib/python3.10/dist-packages (from scrapy) (4.9.4)\n",
            "Requirement already satisfied: defusedxml>=0.7.1 in /usr/local/lib/python3.10/dist-packages (from scrapy) (0.7.1)\n",
            "Requirement already satisfied: PyDispatcher>=2.0.5 in /usr/local/lib/python3.10/dist-packages (from scrapy) (2.0.7)\n",
            "Requirement already satisfied: cffi>=1.12 in /usr/local/lib/python3.10/dist-packages (from cryptography>=36.0.0->scrapy) (1.16.0)\n",
            "Requirement already satisfied: jmespath>=0.9.5 in /usr/local/lib/python3.10/dist-packages (from itemloaders>=1.0.1->scrapy) (1.0.1)\n",
            "Requirement already satisfied: attrs>=19.1.0 in /usr/local/lib/python3.10/dist-packages (from service-identity>=18.1.0->scrapy) (23.2.0)\n",
            "Requirement already satisfied: pyasn1 in /usr/local/lib/python3.10/dist-packages (from service-identity>=18.1.0->scrapy) (0.6.0)\n",
            "Requirement already satisfied: pyasn1-modules in /usr/local/lib/python3.10/dist-packages (from service-identity>=18.1.0->scrapy) (0.4.0)\n",
            "Requirement already satisfied: automat>=0.8.0 in /usr/local/lib/python3.10/dist-packages (from Twisted>=18.9.0->scrapy) (22.10.0)\n",
            "Requirement already satisfied: constantly>=15.1 in /usr/local/lib/python3.10/dist-packages (from Twisted>=18.9.0->scrapy) (23.10.4)\n",
            "Requirement already satisfied: hyperlink>=17.1.1 in /usr/local/lib/python3.10/dist-packages (from Twisted>=18.9.0->scrapy) (21.0.0)\n",
            "Requirement already satisfied: incremental>=22.10.0 in /usr/local/lib/python3.10/dist-packages (from Twisted>=18.9.0->scrapy) (22.10.0)\n",
            "Requirement already satisfied: typing-extensions>=4.2.0 in /usr/local/lib/python3.10/dist-packages (from Twisted>=18.9.0->scrapy) (4.12.1)\n",
            "Requirement already satisfied: idna in /usr/local/lib/python3.10/dist-packages (from tldextract->scrapy) (3.7)\n",
            "Requirement already satisfied: requests>=2.1.0 in /usr/local/lib/python3.10/dist-packages (from tldextract->scrapy) (2.31.0)\n",
            "Requirement already satisfied: requests-file>=1.4 in /usr/local/lib/python3.10/dist-packages (from tldextract->scrapy) (2.1.0)\n",
            "Requirement already satisfied: filelock>=3.0.8 in /usr/local/lib/python3.10/dist-packages (from tldextract->scrapy) (3.14.0)\n",
            "Requirement already satisfied: six in /usr/local/lib/python3.10/dist-packages (from automat>=0.8.0->Twisted>=18.9.0->scrapy) (1.16.0)\n",
            "Requirement already satisfied: pycparser in /usr/local/lib/python3.10/dist-packages (from cffi>=1.12->cryptography>=36.0.0->scrapy) (2.22)\n",
            "Requirement already satisfied: charset-normalizer<4,>=2 in /usr/local/lib/python3.10/dist-packages (from requests>=2.1.0->tldextract->scrapy) (3.3.2)\n",
            "Requirement already satisfied: urllib3<3,>=1.21.1 in /usr/local/lib/python3.10/dist-packages (from requests>=2.1.0->tldextract->scrapy) (2.0.7)\n",
            "Requirement already satisfied: certifi>=2017.4.17 in /usr/local/lib/python3.10/dist-packages (from requests>=2.1.0->tldextract->scrapy) (2024.6.2)\n"
          ]
        }
      ]
    },
    {
      "cell_type": "code",
      "execution_count": 44,
      "metadata": {
        "id": "a-NMbS_qWQg5"
      },
      "outputs": [],
      "source": [
        "from pyspark.sql import SparkSession\n",
        "from pyspark.sql.functions import col, when, mean, median, udf\n",
        "from pyspark.sql.functions import col, when, lit, regexp_replace\n",
        "from pyspark.sql.types import FloatType, StringType, StructType, StructField\n",
        "\n",
        "from pyspark.sql import functions as F\n",
        "\n",
        "from scrapy import Selector\n",
        "import requests"
      ]
    },
    {
      "cell_type": "code",
      "source": [
        "# Initialize Spark session\n",
        "spark = SparkSession.builder.appName(\"HeartDiseasePrediction\").getOrCreate()"
      ],
      "metadata": {
        "id": "HwNP0r69axA8"
      },
      "execution_count": 45,
      "outputs": []
    },
    {
      "cell_type": "code",
      "source": [
        "# Load data from S3\n",
        "# data_path = \"s3a://your-bucket-name/your-dataset.csv\"\n",
        "data_path = \"heart_disease.csv\"\n",
        "df = spark.read.csv(data_path, header=True, inferSchema=True)\n",
        "df.show()"
      ],
      "metadata": {
        "collapsed": true,
        "id": "vE-4QyAca9Fw",
        "colab": {
          "base_uri": "https://localhost:8080/"
        },
        "outputId": "431729c8-18d5-41fc-a354-00b8748c215f"
      },
      "execution_count": 46,
      "outputs": [
        {
          "output_type": "stream",
          "name": "stdout",
          "text": [
            "+---+---+-------+--------+-------+-------+---+--------+---+----+-----+----+-----+---+----+-------+-------+-----+----------+-----+---+----+----+---+--------+-----+-------+--------+----+-------+--------+--------+--------+-----+--------+-----+-----+-------+-----+-----+------+---+-------+-------+------+------+------+------+----+-------+-------+-------+---+----+---+------+\n",
            "|age|sex|painloc|painexer|relrest|pncaden| cp|trestbps|htn|chol|smoke|cigs|years|fbs|  dm|famhist|restecg|ekgmo|ekgday(day|ekgyr|dig|prop|nitr|pro|diuretic|proto|thaldur|thaltime| met|thalach|thalrest|tpeakbps|tpeakbpd|dummy|trestbpd|exang|xhypo|oldpeak|slope|rldv5|rldv5e| ca|restckm|exerckm|restef|restwm|exeref|exerwm|thal|thalsev|thalpul|earlobe|cmo|cday|cyr|target|\n",
            "+---+---+-------+--------+-------+-------+---+--------+---+----+-----+----+-----+---+----+-------+-------+-----+----------+-----+---+----+----+---+--------+-----+-------+--------+----+-------+--------+--------+--------+-----+--------+-----+-----+-------+-----+-----+------+---+-------+-------+------+------+------+------+----+-------+-------+-------+---+----+---+------+\n",
            "| 63|  1|   NULL|    NULL|   NULL|   NULL|  1|     145|  1| 233| NULL|  50|   20|  1|NULL|      1|      2|    2|         3|   81|  0|   0|   0|  0|       0|    1|   10.5|     6.0|13.0|    150|      60|     190|      90|  145|      85|    0|    0|    2.3|    3| NULL|   172|  0|   NULL|   NULL|  NULL|  NULL|  NULL|  NULL|   6|   NULL|   NULL|   NULL|  2|  16| 81|     0|\n",
            "| 67|  1|   NULL|    NULL|   NULL|   NULL|  4|     160|  1| 286| NULL|  40|   40|  0|NULL|      1|      2|    3|         5|   81|  0|   1|   0|  0|       0|    1|    9.5|     6.0|13.0|    108|      64|     160|      90|  160|      90|    1|    0|    1.5|    2| NULL|   185|  3|   NULL|   NULL|  NULL|  NULL|  NULL|  NULL|   3|   NULL|   NULL|   NULL|  2|   5| 81|     1|\n",
            "| 67|  1|   NULL|    NULL|   NULL|   NULL|  4|     120|  1| 229| NULL|  20|   35|  0|NULL|      1|      2|    2|        19|   81|  0|   1|   0|  0|       0|    1|    8.5|     6.0|10.0|    129|      78|     140|      80|  120|      80|    1|    0|    2.6|    2| NULL|   150|  2|   NULL|   NULL|  NULL|  NULL|  NULL|  NULL|   7|   NULL|   NULL|   NULL|  2|  20| 81|     1|\n",
            "| 37|  1|   NULL|    NULL|   NULL|   NULL|  3|     130|  0| 250| NULL|   0|    0|  0|NULL|      1|      0|    2|        13|   81|  0|   1|   0|  0|       0|    1|   13.0|    13.0|17.0|    187|      84|     195|      68|  130|      78|    0|    0|    3.5|    3| NULL|   167|  0|   NULL|   NULL|  NULL|  NULL|  NULL|  NULL|   3|   NULL|   NULL|   NULL|  2|   4| 81|     0|\n",
            "| 41|  0|   NULL|    NULL|   NULL|   NULL|  2|     130|  1| 204| NULL|   0|    0|  0|NULL|      1|      2|    2|         7|   81|  0|   0|   0|  0|       0|    1|    7.0|    NULL| 9.0|    172|      71|     160|      74|  130|      86|    0|    0|    1.4|    1| NULL|    40|  0|   NULL|   NULL|  NULL|  NULL|  NULL|  NULL|   3|   NULL|   NULL|   NULL|  2|  18| 81|     0|\n",
            "| 56|  1|   NULL|    NULL|   NULL|   NULL|  2|     120|  1| 236| NULL|  20|   20|  0|NULL|      1|      0|    3|         9|   81|  1|   0|   0|  0|       0|    1|   11.3|    NULL|16.0|    178|      73|     165|      70|  120|      75|    0|    0|    0.8|    1| NULL|   127|  0|   NULL|   NULL|  NULL|  NULL|  NULL|  NULL|   3|   NULL|   NULL|   NULL|  3|  10| 81|     0|\n",
            "| 62|  0|   NULL|    NULL|   NULL|   NULL|  4|     140|  0| 268| NULL|   0|    0|  0|NULL|      1|      2|    1|        28|   81|  0|   0|   0|  0|       0|    1|    6.0|     6.0| 7.0|    160|      83|     180|      84|  140|     100|    0|    0|    3.6|    3| NULL|   122|  2|   NULL|   NULL|  NULL|  NULL|  NULL|  NULL|   3|   NULL|   NULL|   NULL|  2|   2| 81|     1|\n",
            "| 57|  0|   NULL|    NULL|   NULL|   NULL|  4|     120|  1| 354| NULL|   0|    0|  0|NULL|      1|      0|    7|        20|   81|  0|   0|   0|  0|       0|    1|    9.0|     6.0|10.0|    163|      84|     165|      80|  120|      80|    1|    0|    0.6|    1| NULL|   122|  0|   NULL|   NULL|  NULL|  NULL|  NULL|  NULL|   3|   NULL|   NULL|   NULL|  7|  21| 81|     0|\n",
            "| 63|  1|   NULL|    NULL|   NULL|   NULL|  4|     130|  1| 254| NULL|   0|    0|  0|NULL|      0|      2|    7|         2|   81|  0|   1|   1|  0|       0|    1|    8.0|     8.0| 9.0|    147|      75|     120|      70|  130|     105|    0|    0|    1.4|    2| NULL|    75|  1|   NULL|   NULL|  NULL|  NULL|  NULL|  NULL|   7|   NULL|   NULL|   NULL|  7|   3| 81|     1|\n",
            "| 53|  1|   NULL|    NULL|   NULL|   NULL|  4|     140|  0| 203| NULL|  20|   25|  1|NULL|      1|      2|    7|         3|   81|  0|   1|   0|  0|       1|    1|    5.5|     3.0| 7.0|    155|      86|     185|     120|  140|     100|    1|    0|    3.1|    3| NULL|    68|  0|   NULL|   NULL|  NULL|  NULL|  NULL|  NULL|   7|   NULL|   NULL|   NULL|  7|   6| 81|     1|\n",
            "| 57|  1|   NULL|    NULL|   NULL|   NULL|  4|     140|  0| 192| NULL|  75|   25|  0|NULL|      0|      0|    6|        30|   81|  0|   0|   0|  0|       0|    1|    8.2|    NULL| 9.0|    148|      86|     180|      75|  140|      90|    0|    0|    0.4|    2| NULL|   200|  0|   NULL|   NULL|  NULL|  NULL|  NULL|  NULL|   6|   NULL|   NULL|   NULL|  7|   1| 81|     0|\n",
            "| 56|  0|   NULL|    NULL|   NULL|   NULL|  2|     140|  0| 294| NULL|   0|    0|  0|NULL|      0|      2|    1|        16|   81|  0|   1|   1|  0|       0|    1|    4.5|     4.5| 7.0|    153|      85|     204|     118|  140|     100|    0|    0|    1.3|    2| NULL|   175|  0|   NULL|   NULL|  NULL|  NULL|  NULL|  NULL|   3|   NULL|   NULL|   NULL|  1|  19| 81|     0|\n",
            "| 56|  1|   NULL|    NULL|   NULL|   NULL|  3|     130|  0| 256| NULL|  30|   25|  1|   1|      1|      2|    1|        19|   81|  0|   0|   0|  0|       0|    1|   13.0|    NULL|16.0|    142|      74|     145|      87|  130|      90|    1|    0|    0.6|    2| NULL|   110|  1|   NULL|   NULL|  NULL|  NULL|  NULL|  NULL|   6|   NULL|   NULL|   NULL|  1|  20| 81|     1|\n",
            "| 44|  1|   NULL|    NULL|   NULL|   NULL|  2|     120|  1| 263| NULL|  50|   30|  0|NULL|      1|      0|    5|        20|   81|  0|   1|   0|  0|       0|    1|    9.3|    NULL|13.0|    173|      70|     165|      70|  120|      80|    0|    0|    0.0|    1| NULL|    49|  0|   NULL|   NULL|  NULL|  NULL|  NULL|  NULL|   7|   NULL|   NULL|   NULL|  5|  21| 81|     0|\n",
            "| 52|  1|   NULL|    NULL|   NULL|   NULL|  3|     172|  0| 199| NULL|  30|   35|  1|NULL|      0|      0|    6|         9|   81|  0|   0|   0|  0|       0|    1|   12.5|    NULL|18.0|    162|      91|     220|      96|  172|     100|    0|    0|    0.5|    1| NULL|   231|  0|   NULL|   NULL|  NULL|  NULL|  NULL|  NULL|   7|   NULL|   NULL|   NULL|  6|  10| 81|     0|\n",
            "| 57|  1|   NULL|    NULL|   NULL|   NULL|  3|     150|  1| 168| NULL|  15|   40|  0|NULL|      1|      0|    7|        13|   81|  0|   0|   1|  0|       0|    1|   11.0|    NULL|13.0|    174|      60|     192|      80|  150|      90|    0|    0|    1.6|    1| NULL|   150|  0|   NULL|   NULL|  NULL|  NULL|  NULL|  NULL|   3|   NULL|   NULL|   NULL|  7|  14| 81|     0|\n",
            "| 48|  1|   NULL|    NULL|   NULL|   NULL|  2|     110|  1| 229| NULL|   0|    0|  0|NULL|      0|      0|    7|        21|   81|  0|   1|   0|  0|       0|    1|    9.8|    NULL|13.0|    168|      75|     175|      80|  110|      80|    0|    0|    1.0|    3| NULL|   197|  0|   NULL|   NULL|  NULL|  NULL|  NULL|  NULL|   7|   NULL|   NULL|   NULL|  7|  21| 81|     1|\n",
            "| 54|  1|   NULL|    NULL|   NULL|   NULL|  4|     140|  1| 239| NULL|  20|   30|  0|NULL|      0|      0|    6|        24|   81|  0|   0|   0|  0|       1|    1|    7.8|     7.8|10.0|    160|      86|     180|      98|  140|     100|    0|    0|    1.2|    1| NULL|    85|  0|   NULL|   NULL|  NULL|  NULL|  NULL|  NULL|   3|   NULL|   NULL|   NULL|  6|  25| 81|     0|\n",
            "| 48|  0|   NULL|    NULL|   NULL|   NULL|  3|     130|  1| 275| NULL|   2|   20|  0|NULL|      1|      0|    6|         2|   81|  0|   0|   0|  0|       0|    1|   10.0|    NULL|13.0|    139|      62|     165|      75|  130|      80|    0|    0|    0.2|    1| NULL|   170|  0|   NULL|   NULL|  NULL|  NULL|  NULL|  NULL|   3|   NULL|   NULL|   NULL|  6|   3| 81|     0|\n",
            "| 49|  1|   NULL|    NULL|   NULL|   NULL|  2|     130|  1| 266| NULL|  25|   22|  0|NULL|      0|      0|    7|        24|   81|  0|   0|   0|  0|       0|    1|   12.0|    NULL|14.0|    171|      82|     135|      80|  130|      75|    0|    0|    0.6|    1| NULL|   127|  0|   NULL|   NULL|  NULL|  NULL|  NULL|  NULL|   3|   NULL|   NULL|   NULL|  7|  27| 81|     0|\n",
            "+---+---+-------+--------+-------+-------+---+--------+---+----+-----+----+-----+---+----+-------+-------+-----+----------+-----+---+----+----+---+--------+-----+-------+--------+----+-------+--------+--------+--------+-----+--------+-----+-----+-------+-----+-----+------+---+-------+-------+------+------+------+------+----+-------+-------+-------+---+----+---+------+\n",
            "only showing top 20 rows\n",
            "\n"
          ]
        }
      ]
    },
    {
      "cell_type": "code",
      "source": [
        "# choose a subset of the data with only the given columns in the assigment\n",
        "col_subset = [[\"age\", \"sex\", \"painloc\", \"painexer\", \"cp\", \"trestbps\", \"smoke\", \"fbs\", \"prop\", \"nitr\",\n",
        "         \"pro\", \"diuretic\", \"thaldur\", \"thalach\", \"exang\", \"oldpeak\", \"slope\", \"target\"]]\n",
        "\n",
        "df = df.select(*col_subset)\n",
        "df.show()"
      ],
      "metadata": {
        "id": "dPV8KYkecPet",
        "colab": {
          "base_uri": "https://localhost:8080/"
        },
        "outputId": "948bd319-329f-4874-d4d0-b8dcc501571d"
      },
      "execution_count": 47,
      "outputs": [
        {
          "output_type": "stream",
          "name": "stdout",
          "text": [
            "+---+---+-------+--------+---+--------+-----+---+----+----+---+--------+-------+-------+-----+-------+-----+------+\n",
            "|age|sex|painloc|painexer| cp|trestbps|smoke|fbs|prop|nitr|pro|diuretic|thaldur|thalach|exang|oldpeak|slope|target|\n",
            "+---+---+-------+--------+---+--------+-----+---+----+----+---+--------+-------+-------+-----+-------+-----+------+\n",
            "| 63|  1|   NULL|    NULL|  1|     145| NULL|  1|   0|   0|  0|       0|   10.5|    150|    0|    2.3|    3|     0|\n",
            "| 67|  1|   NULL|    NULL|  4|     160| NULL|  0|   1|   0|  0|       0|    9.5|    108|    1|    1.5|    2|     1|\n",
            "| 67|  1|   NULL|    NULL|  4|     120| NULL|  0|   1|   0|  0|       0|    8.5|    129|    1|    2.6|    2|     1|\n",
            "| 37|  1|   NULL|    NULL|  3|     130| NULL|  0|   1|   0|  0|       0|   13.0|    187|    0|    3.5|    3|     0|\n",
            "| 41|  0|   NULL|    NULL|  2|     130| NULL|  0|   0|   0|  0|       0|    7.0|    172|    0|    1.4|    1|     0|\n",
            "| 56|  1|   NULL|    NULL|  2|     120| NULL|  0|   0|   0|  0|       0|   11.3|    178|    0|    0.8|    1|     0|\n",
            "| 62|  0|   NULL|    NULL|  4|     140| NULL|  0|   0|   0|  0|       0|    6.0|    160|    0|    3.6|    3|     1|\n",
            "| 57|  0|   NULL|    NULL|  4|     120| NULL|  0|   0|   0|  0|       0|    9.0|    163|    1|    0.6|    1|     0|\n",
            "| 63|  1|   NULL|    NULL|  4|     130| NULL|  0|   1|   1|  0|       0|    8.0|    147|    0|    1.4|    2|     1|\n",
            "| 53|  1|   NULL|    NULL|  4|     140| NULL|  1|   1|   0|  0|       1|    5.5|    155|    1|    3.1|    3|     1|\n",
            "| 57|  1|   NULL|    NULL|  4|     140| NULL|  0|   0|   0|  0|       0|    8.2|    148|    0|    0.4|    2|     0|\n",
            "| 56|  0|   NULL|    NULL|  2|     140| NULL|  0|   1|   1|  0|       0|    4.5|    153|    0|    1.3|    2|     0|\n",
            "| 56|  1|   NULL|    NULL|  3|     130| NULL|  1|   0|   0|  0|       0|   13.0|    142|    1|    0.6|    2|     1|\n",
            "| 44|  1|   NULL|    NULL|  2|     120| NULL|  0|   1|   0|  0|       0|    9.3|    173|    0|    0.0|    1|     0|\n",
            "| 52|  1|   NULL|    NULL|  3|     172| NULL|  1|   0|   0|  0|       0|   12.5|    162|    0|    0.5|    1|     0|\n",
            "| 57|  1|   NULL|    NULL|  3|     150| NULL|  0|   0|   1|  0|       0|   11.0|    174|    0|    1.6|    1|     0|\n",
            "| 48|  1|   NULL|    NULL|  2|     110| NULL|  0|   1|   0|  0|       0|    9.8|    168|    0|    1.0|    3|     1|\n",
            "| 54|  1|   NULL|    NULL|  4|     140| NULL|  0|   0|   0|  0|       1|    7.8|    160|    0|    1.2|    1|     0|\n",
            "| 48|  0|   NULL|    NULL|  3|     130| NULL|  0|   0|   0|  0|       0|   10.0|    139|    0|    0.2|    1|     0|\n",
            "| 49|  1|   NULL|    NULL|  2|     130| NULL|  0|   0|   0|  0|       0|   12.0|    171|    0|    0.6|    1|     0|\n",
            "+---+---+-------+--------+---+--------+-----+---+----+----+---+--------+-------+-------+-----+-------+-----+------+\n",
            "only showing top 20 rows\n",
            "\n"
          ]
        }
      ]
    },
    {
      "cell_type": "markdown",
      "source": [
        "# Data Cleaning"
      ],
      "metadata": {
        "id": "z6hZXjXq5ezo"
      }
    },
    {
      "cell_type": "code",
      "source": [
        "## data cleaning\n",
        "\n",
        "def calculate_mode(df, column):\n",
        "    mode_df = df.groupBy(column).count().orderBy('count', ascending=False).first()\n",
        "    return mode_df[0] if mode_df else None\n",
        "\n",
        "\n",
        "def clean_data(df):\n",
        "    # Convert age to numeric and replace invalid values\n",
        "    df = df.withColumn('age', col('age').cast('float'))\n",
        "    median_age = df.filter(df['age'] > 0).approxQuantile('age', [0.5], 0.0)[0]\n",
        "    df = df.withColumn('age', when(col('age') <= 0, median_age).otherwise(col('age')))\n",
        "\n",
        "    # Replace missing values in painloc and painexer with mode\n",
        "    mode_painloc = calculate_mode(df, 'painloc')\n",
        "    if mode_painloc is not None:\n",
        "        df = df.fillna({\"painloc\": mode_painloc})\n",
        "\n",
        "    # mode_painexer = calculate_mode(df, 'painexer')\n",
        "    # if mode_painexer is not None:\n",
        "    #     df = df.fillna({\"painexer\": mode_painexer})\n",
        "    mean_painexer = df.select(mean(\"painexer\")).withColumnRenamed(\"avg(painexer)\", \"painexer\").collect()[0][0]\n",
        "    df = df.fillna({\"painexer\": mean_painexer})\n",
        "\n",
        "    # Replace values less than 100 in trestbps with 100\n",
        "    df = df.withColumn(\"trestbps\", when(col(\"trestbps\") < 100, 100).otherwise(col(\"trestbps\")))\n",
        "\n",
        "    # Replace invalid values in oldpeak\n",
        "    df = df.withColumn(\"oldpeak\", when(col(\"oldpeak\") < 0, 0).otherwise(col(\"oldpeak\")))\n",
        "    df = df.withColumn(\"oldpeak\", when(col(\"oldpeak\") > 4, 4).otherwise(col(\"oldpeak\")))\n",
        "\n",
        "    # Replace missing values in thaldur and thalach with mean\n",
        "    mean_thaldur = df.select(mean(\"thaldur\")).collect()[0][0]\n",
        "    mean_thalach = df.select(mean(\"thalach\")).collect()[0][0]\n",
        "    df = df.fillna({\"thaldur\": mean_thaldur, \"thalach\": mean_thalach})\n",
        "\n",
        "    # Replace missing values and values greater than 1 in fbs, prop, nitr, pro, diuretic with mode\n",
        "    for column in ['fbs', 'prop', 'nitr', 'pro', 'diuretic']:\n",
        "        mode_value = calculate_mode(df, column)\n",
        "        if mode_value is not None:\n",
        "            df = df.fillna({column: mode_value})\n",
        "            df = df.withColumn(column, when(col(column) > 1, mode_value).otherwise(col(column)))\n",
        "\n",
        "    # Replace missing values in exang and slope with mode\n",
        "    for column in ['exang', 'slope']:\n",
        "        mode_value = calculate_mode(df, column)\n",
        "        if mode_value is not None:\n",
        "            df = df.withColumn(column, when(col(column).isNull(), lit(mode_value)).otherwise(col(column)))\n",
        "\n",
        "    # Replace missing values in target with mode\n",
        "    mode_target = calculate_mode(df, 'target')\n",
        "    if mode_target is not None:\n",
        "        df = df.withColumn('target', when(col('target').isNull(), lit(mode_target)).otherwise(col('target')))\n",
        "\n",
        "    return df\n",
        "\n",
        "# Apply the cleaning function\n",
        "df_cleaned = clean_data(df)\n",
        "df_cleaned.show()\n",
        "\n",
        "# Save the modified DataFrame to a new CSV file\n",
        "df_cleaned.write.mode(\"overwrite\").csv(\"heart_disease_cleaned.csv\", header=True)"
      ],
      "metadata": {
        "id": "ZBboSxYibti5",
        "colab": {
          "base_uri": "https://localhost:8080/"
        },
        "outputId": "353cbcb7-9d88-4e93-8aaa-0a9f2c7bc137"
      },
      "execution_count": 48,
      "outputs": [
        {
          "output_type": "stream",
          "name": "stdout",
          "text": [
            "+----+---+-------+--------+---+--------+-----+---+----+----+---+--------+-------+-------+-----+-------+-----+------+\n",
            "| age|sex|painloc|painexer| cp|trestbps|smoke|fbs|prop|nitr|pro|diuretic|thaldur|thalach|exang|oldpeak|slope|target|\n",
            "+----+---+-------+--------+---+--------+-----+---+----+----+---+--------+-------+-------+-----+-------+-----+------+\n",
            "|63.0|  1|      1|       0|  1|     145| NULL|  1|   0|   0|  0|       0|   10.5|    150|    0|    2.3|    3|     0|\n",
            "|67.0|  1|      1|       0|  4|     160| NULL|  0|   1|   0|  0|       0|    9.5|    108|    1|    1.5|    2|     1|\n",
            "|67.0|  1|      1|       0|  4|     120| NULL|  0|   1|   0|  0|       0|    8.5|    129|    1|    2.6|    2|     1|\n",
            "|37.0|  1|      1|       0|  3|     130| NULL|  0|   1|   0|  0|       0|   13.0|    187|    0|    3.5|    3|     0|\n",
            "|41.0|  0|      1|       0|  2|     130| NULL|  0|   0|   0|  0|       0|    7.0|    172|    0|    1.4|    1|     0|\n",
            "|56.0|  1|      1|       0|  2|     120| NULL|  0|   0|   0|  0|       0|   11.3|    178|    0|    0.8|    1|     0|\n",
            "|62.0|  0|      1|       0|  4|     140| NULL|  0|   0|   0|  0|       0|    6.0|    160|    0|    3.6|    3|     1|\n",
            "|57.0|  0|      1|       0|  4|     120| NULL|  0|   0|   0|  0|       0|    9.0|    163|    1|    0.6|    1|     0|\n",
            "|63.0|  1|      1|       0|  4|     130| NULL|  0|   1|   1|  0|       0|    8.0|    147|    0|    1.4|    2|     1|\n",
            "|53.0|  1|      1|       0|  4|     140| NULL|  1|   1|   0|  0|       1|    5.5|    155|    1|    3.1|    3|     1|\n",
            "|57.0|  1|      1|       0|  4|     140| NULL|  0|   0|   0|  0|       0|    8.2|    148|    0|    0.4|    2|     0|\n",
            "|56.0|  0|      1|       0|  2|     140| NULL|  0|   1|   1|  0|       0|    4.5|    153|    0|    1.3|    2|     0|\n",
            "|56.0|  1|      1|       0|  3|     130| NULL|  1|   0|   0|  0|       0|   13.0|    142|    1|    0.6|    2|     1|\n",
            "|44.0|  1|      1|       0|  2|     120| NULL|  0|   1|   0|  0|       0|    9.3|    173|    0|    0.0|    1|     0|\n",
            "|52.0|  1|      1|       0|  3|     172| NULL|  1|   0|   0|  0|       0|   12.5|    162|    0|    0.5|    1|     0|\n",
            "|57.0|  1|      1|       0|  3|     150| NULL|  0|   0|   1|  0|       0|   11.0|    174|    0|    1.6|    1|     0|\n",
            "|48.0|  1|      1|       0|  2|     110| NULL|  0|   1|   0|  0|       0|    9.8|    168|    0|    1.0|    3|     1|\n",
            "|54.0|  1|      1|       0|  4|     140| NULL|  0|   0|   0|  0|       1|    7.8|    160|    0|    1.2|    1|     0|\n",
            "|48.0|  0|      1|       0|  3|     130| NULL|  0|   0|   0|  0|       0|   10.0|    139|    0|    0.2|    1|     0|\n",
            "|49.0|  1|      1|       0|  2|     130| NULL|  0|   0|   0|  0|       0|   12.0|    171|    0|    0.6|    1|     0|\n",
            "+----+---+-------+--------+---+--------+-----+---+----+----+---+--------+-------+-------+-----+-------+-----+------+\n",
            "only showing top 20 rows\n",
            "\n"
          ]
        }
      ]
    },
    {
      "cell_type": "markdown",
      "source": [
        "# Web Scraping"
      ],
      "metadata": {
        "id": "4lfTck6q5lrh"
      }
    },
    {
      "cell_type": "markdown",
      "source": [
        "### Source #1"
      ],
      "metadata": {
        "id": "713XXzVP_Inu"
      }
    },
    {
      "cell_type": "code",
      "source": [
        "\n",
        "# URL of the page\n",
        "url = 'https://www.abs.gov.au/statistics/health/health-conditions-and-risks/smoking-and-vaping/latest-release'\n",
        "\n",
        "# Make a request to fetch the webpage\n",
        "response = requests.get(url)\n",
        "response.raise_for_status()\n",
        "\n",
        "# html content\n",
        "html_content = response.content\n",
        "# html_content\n",
        "\n",
        "full_sel = Selector(text=html_content)\n",
        "tables = full_sel.xpath('//table[@class=\"responsive-enabled\"]')\n",
        "\n",
        "rows = tables[1].xpath('.//thead//tr | .//tbody//tr')\n",
        "\n",
        "from typing import List\n",
        "import re\n",
        "\n",
        "\n",
        "# parse HTML rows and extract data from each cell\n",
        "def parse_row(row: Selector) -> List[str]:\n",
        "    \"\"\"\n",
        "    Parses an HTML row into a list of individual elements.\n",
        "    \"\"\"\n",
        "    cells = row.xpath('.//th | .//td')\n",
        "    row_data = []\n",
        "\n",
        "    for cell in cells:\n",
        "        cell_text = cell.xpath('.//text()').getall()\n",
        "        cell_text = ' '.join(cell_text)  # Join all text nodes within the cell\n",
        "        cell_text = cell_text.strip()  # Strip whitespace from the beginning and end\n",
        "        cell_text = re.sub(r'\\s+', ' ', cell_text)  # Replace multiple spaces with a single space\n",
        "        cell_text = re.sub(r'<.*?>', ' ', cell_text)  # Remove remaining HTML tags\n",
        "        cell_text = cell_text.replace('\\xa0', ' ')  # Replace non-breaking space with regular space\n",
        "        row_data.append(cell_text)\n",
        "\n",
        "    return row_data\n",
        "\n",
        "header = parse_row(rows[0])\n",
        "table_data = [parse_row(row) for row in rows[1:]]\n",
        "\n",
        "# Create a Spark DataFrame\n",
        "smoking1_df = spark.createDataFrame(table_data, schema=header)\n",
        "smoking1_df.show()"
      ],
      "metadata": {
        "id": "KeO9AtdL5r9D",
        "colab": {
          "base_uri": "https://localhost:8080/"
        },
        "outputId": "fdb1ec39-a835-4345-a771-f7e6e9b3728f"
      },
      "execution_count": 49,
      "outputs": [
        {
          "output_type": "stream",
          "name": "stdout",
          "text": [
            "+-----------------+-----------+---------------------------------+----------------------------------+-----------+---------------------------------+----------------------------------+-----------+---------------------------------+----------------------------------+--------+---------------------------------+----------------------------------+\n",
            "|                 |2011–12 (%)|95% confidence interval (%) (low)|95% confidence interval (%) (high)|2014–15 (%)|95% confidence interval (%) (low)|95% confidence interval (%) (high)|2017–18 (%)|95% confidence interval (%) (low)|95% confidence interval (%) (high)|2022 (%)|95% confidence interval (%) (low)|95% confidence interval (%) (high)|\n",
            "+-----------------+-----------+---------------------------------+----------------------------------+-----------+---------------------------------+----------------------------------+-----------+---------------------------------+----------------------------------+--------+---------------------------------+----------------------------------+\n",
            "|            15–17|        4.2|                              2.7|                               5.7|        2.7|                              1.3|                               4.1|        1.9|                              1.1|                               2.7|     1.6|                              0.3|                               2.9|\n",
            "|            18–24|       16.6|                             14.5|                              18.7|       14.2|                             11.8|                              16.6|       13.9|                             12.5|                              15.3|     7.3|                              5.4|                               9.2|\n",
            "|            25–34|       19.5|                             17.9|                              21.1|       17.3|                             15.0|                              19.6|       14.7|                             13.5|                              15.9|    10.9|                              9.1|                              12.7|\n",
            "|            35–44|       18.9|                             17.5|                              20.3|       16.6|                             14.9|                              18.3|       16.0|                             14.8|                              17.2|    10.9|                              9.2|                              12.6|\n",
            "|            45–54|       20.2|                             18.8|                              21.6|       17.7|                             15.7|                              19.7|       16.9|                             15.7|                              18.1|    13.8|                             11.9|                              15.7|\n",
            "|            55–64|       14.2|                             13.0|                              15.4|       14.6|                             12.9|                              16.3|       15.2|                             14.1|                              16.3|    14.9|                             13.0|                              16.8|\n",
            "|            65–74|        8.9|                              7.5|                              10.3|        8.8|                              7.1|                              10.5|        8.7|                              7.9|                               9.5|     8.7|                              7.1|                              10.3|\n",
            "|75 years and over|        3.9|                              3.0|                               4.8|        3.6|                              2.3|                               4.9|        4.5|                              3.8|                               5.2|     2.9|                              1.4|                               4.4|\n",
            "+-----------------+-----------+---------------------------------+----------------------------------+-----------+---------------------------------+----------------------------------+-----------+---------------------------------+----------------------------------+--------+---------------------------------+----------------------------------+\n",
            "\n"
          ]
        }
      ]
    },
    {
      "cell_type": "markdown",
      "source": [
        "### Source #2"
      ],
      "metadata": {
        "id": "Vaq4XWHO5s7x"
      }
    },
    {
      "cell_type": "code",
      "source": [
        "\n",
        "# URL of the page\n",
        "url = 'https://www.cdc.gov/tobacco/data_statistics/fact_sheets/adult_data/cig_smoking/index.htm'\n",
        "\n",
        "# Make a request to fetch the webpage\n",
        "response = requests.get(url)\n",
        "response.raise_for_status()\n",
        "\n",
        "# html content\n",
        "html_content = response.content\n",
        "\n",
        "text = Selector(text=html_content)\n",
        "div_list = text.xpath('//div[contains(@class, \"card-body\")]')\n",
        "\n",
        "div_sex = text.xpath('//div[contains(@class, \"card-body\") and .//p[contains(text(), \"Current cigarette smoking was higher among men than women\")]]/ul')\n",
        "by_sex_list = div_sex.xpath('.//li/text()')\n",
        "by_sex_list.getall()\n",
        "\n",
        "# print(\"---\")\n",
        "\n",
        "div_age = text.xpath('//div[contains(@class, \"card-body\") and .//p[contains(text(), \"Current cigarette smoking was highest among people aged 25–44 years and 45–64 years. Current cigarette smoking was lowest among people aged 18-24 years\")]]/ul')\n",
        "by_age_list = div_age.xpath('.//li/text()')\n",
        "by_age_list.getall()\n",
        "\n"
      ],
      "metadata": {
        "id": "9F85T94l5sqX",
        "colab": {
          "base_uri": "https://localhost:8080/"
        },
        "outputId": "164e13b9-59ad-42a6-81be-84d6e2af09c6"
      },
      "execution_count": 50,
      "outputs": [
        {
          "output_type": "execute_result",
          "data": {
            "text/plain": [
              "['About 5 of every 100 adults aged 18–24 years (5.3%)',\n",
              " 'Nearly 13 of every 100 adults aged 25–44 years (12.6%)',\n",
              " 'Nearly 15 of every 100 adults aged 45–64 years (14.9%)',\n",
              " 'About 8 of every 100 adults aged 65 years and older (8.3%)']"
            ]
          },
          "metadata": {},
          "execution_count": 50
        }
      ]
    },
    {
      "cell_type": "markdown",
      "source": [
        "## fixing the \"Smoke\" column\n"
      ],
      "metadata": {
        "id": "Hpl6dvUPBQdh"
      }
    },
    {
      "cell_type": "code",
      "source": [
        "# Mocked data for smoking rates\n",
        "def impute_smoke(df):\n",
        "    # Mocked data for smoking rates\n",
        "    smoking_rates_by_age = {\n",
        "        '18-24': 0.053,\n",
        "        '25-44': 0.126,\n",
        "        '45-64': 0.149,\n",
        "        '65+': 0.083\n",
        "    }\n",
        "    smoking_rates_by_sex = {'Female': 0.101, 'Male': 0.131}\n",
        "\n",
        "    age_bounds = {\n",
        "        '15-17': (15, 17),\n",
        "        '18-24': (18, 24),\n",
        "        '25-34': (25, 34),\n",
        "        '35-44': (35, 44),\n",
        "        '45-54': (45, 54),\n",
        "        '55-64': (55, 64),\n",
        "        '65+': (65, 120)  # Assuming 65+ means up to very old ages\n",
        "    }\n",
        "\n",
        "    # Create UDFs for imputing smoke_source1 and smoke_source2\n",
        "    def get_smoke_source1(age):\n",
        "        age = float(age)\n",
        "        for key, value in age_bounds.items():\n",
        "            if value[0] <= age <= value[1]:\n",
        "                return smoking_rates_by_age.get(key, None)\n",
        "        return None\n",
        "\n",
        "    def get_smoke_source2(age, sex):\n",
        "        age = float(age)\n",
        "        for key, value in age_bounds.items():\n",
        "            if value[0] <= age <= value[1]:\n",
        "                age_rate = smoking_rates_by_age.get(key, None)\n",
        "                if age_rate is not None:\n",
        "                    sex_rate = smoking_rates_by_sex['Male' if sex == 1.0 else 'Female']\n",
        "                    rate = age_rate * (sex_rate / smoking_rates_by_sex['Female']) if sex == 1.0 else age_rate\n",
        "                    return rate\n",
        "        return None\n",
        "\n",
        "    get_smoke_source1_udf = udf(get_smoke_source1, FloatType())\n",
        "    get_smoke_source2_udf = udf(get_smoke_source2, FloatType())\n",
        "\n",
        "    # Ensure the 'age' column is cast to float\n",
        "    df = df.withColumn(\"age\", col(\"age\").cast(\"float\"))\n",
        "\n",
        "    # Apply the UDFs to add new columns\n",
        "    df = df.withColumn(\"smoke_source1\", get_smoke_source1_udf(col(\"age\")))\n",
        "    df = df.withColumn(\"smoke_source2\", get_smoke_source2_udf(col(\"age\"), col(\"sex\")))\n",
        "\n",
        "    return df\n",
        "\n",
        "\n",
        "# Apply the impute_smoke function\n",
        "df_imputed = impute_smoke(df_cleaned)\n",
        "\n",
        "# Show the result\n",
        "df_imputed.show()\n",
        "\n",
        "# Save the modified DataFrame to a new CSV file\n",
        "df_cleaned.write.mode(\"overwrite\").csv(\"heart_disease_cleaned.csv\", header=True)"
      ],
      "metadata": {
        "colab": {
          "base_uri": "https://localhost:8080/"
        },
        "id": "DvG2mANOBRFk",
        "outputId": "b0320395-1f0b-4548-9464-b531ef178d6b"
      },
      "execution_count": 51,
      "outputs": [
        {
          "output_type": "stream",
          "name": "stdout",
          "text": [
            "+----+---+-------+--------+---+--------+-----+---+----+----+---+--------+-------+-------+-----+-------+-----+------+-------------+-------------+\n",
            "| age|sex|painloc|painexer| cp|trestbps|smoke|fbs|prop|nitr|pro|diuretic|thaldur|thalach|exang|oldpeak|slope|target|smoke_source1|smoke_source2|\n",
            "+----+---+-------+--------+---+--------+-----+---+----+----+---+--------+-------+-------+-----+-------+-----+------+-------------+-------------+\n",
            "|63.0|  1|      1|       0|  1|     145| NULL|  1|   0|   0|  0|       0|   10.5|    150|    0|    2.3|    3|     0|         NULL|         NULL|\n",
            "|67.0|  1|      1|       0|  4|     160| NULL|  0|   1|   0|  0|       0|    9.5|    108|    1|    1.5|    2|     1|        0.083|   0.10765347|\n",
            "|67.0|  1|      1|       0|  4|     120| NULL|  0|   1|   0|  0|       0|    8.5|    129|    1|    2.6|    2|     1|        0.083|   0.10765347|\n",
            "|37.0|  1|      1|       0|  3|     130| NULL|  0|   1|   0|  0|       0|   13.0|    187|    0|    3.5|    3|     0|         NULL|         NULL|\n",
            "|41.0|  0|      1|       0|  2|     130| NULL|  0|   0|   0|  0|       0|    7.0|    172|    0|    1.4|    1|     0|         NULL|         NULL|\n",
            "|56.0|  1|      1|       0|  2|     120| NULL|  0|   0|   0|  0|       0|   11.3|    178|    0|    0.8|    1|     0|         NULL|         NULL|\n",
            "|62.0|  0|      1|       0|  4|     140| NULL|  0|   0|   0|  0|       0|    6.0|    160|    0|    3.6|    3|     1|         NULL|         NULL|\n",
            "|57.0|  0|      1|       0|  4|     120| NULL|  0|   0|   0|  0|       0|    9.0|    163|    1|    0.6|    1|     0|         NULL|         NULL|\n",
            "|63.0|  1|      1|       0|  4|     130| NULL|  0|   1|   1|  0|       0|    8.0|    147|    0|    1.4|    2|     1|         NULL|         NULL|\n",
            "|53.0|  1|      1|       0|  4|     140| NULL|  1|   1|   0|  0|       1|    5.5|    155|    1|    3.1|    3|     1|         NULL|         NULL|\n",
            "|57.0|  1|      1|       0|  4|     140| NULL|  0|   0|   0|  0|       0|    8.2|    148|    0|    0.4|    2|     0|         NULL|         NULL|\n",
            "|56.0|  0|      1|       0|  2|     140| NULL|  0|   1|   1|  0|       0|    4.5|    153|    0|    1.3|    2|     0|         NULL|         NULL|\n",
            "|56.0|  1|      1|       0|  3|     130| NULL|  1|   0|   0|  0|       0|   13.0|    142|    1|    0.6|    2|     1|         NULL|         NULL|\n",
            "|44.0|  1|      1|       0|  2|     120| NULL|  0|   1|   0|  0|       0|    9.3|    173|    0|    0.0|    1|     0|         NULL|         NULL|\n",
            "|52.0|  1|      1|       0|  3|     172| NULL|  1|   0|   0|  0|       0|   12.5|    162|    0|    0.5|    1|     0|         NULL|         NULL|\n",
            "|57.0|  1|      1|       0|  3|     150| NULL|  0|   0|   1|  0|       0|   11.0|    174|    0|    1.6|    1|     0|         NULL|         NULL|\n",
            "|48.0|  1|      1|       0|  2|     110| NULL|  0|   1|   0|  0|       0|    9.8|    168|    0|    1.0|    3|     1|         NULL|         NULL|\n",
            "|54.0|  1|      1|       0|  4|     140| NULL|  0|   0|   0|  0|       1|    7.8|    160|    0|    1.2|    1|     0|         NULL|         NULL|\n",
            "|48.0|  0|      1|       0|  3|     130| NULL|  0|   0|   0|  0|       0|   10.0|    139|    0|    0.2|    1|     0|         NULL|         NULL|\n",
            "|49.0|  1|      1|       0|  2|     130| NULL|  0|   0|   0|  0|       0|   12.0|    171|    0|    0.6|    1|     0|         NULL|         NULL|\n",
            "+----+---+-------+--------+---+--------+-----+---+----+----+---+--------+-------+-------+-----+-------+-----+------+-------------+-------------+\n",
            "only showing top 20 rows\n",
            "\n"
          ]
        }
      ]
    },
    {
      "cell_type": "code",
      "source": [
        "\n",
        "def categorize_percent1(age: int) -> float:\n",
        "    if age is None:\n",
        "        return 0.0\n",
        "    elif 15 <= age <= 17:\n",
        "        return .016\n",
        "    elif 18 <= age <= 24:\n",
        "        return .073\n",
        "    elif 25 <= age <= 34:\n",
        "        return .109\n",
        "    elif 35 <= age <= 44:\n",
        "        return .109\n",
        "    elif 45 <= age <= 54:\n",
        "        return .138\n",
        "    elif 55 <= age <= 64:\n",
        "        return .149\n",
        "    elif 65 <= age <= 74:\n",
        "        return .087\n",
        "    elif age >= 75:\n",
        "        return .029\n",
        "    else:\n",
        "        return 0.0\n",
        "\n",
        "get_smoking_udf = udf(lambda age: categorize_percent1(age), FloatType())\n",
        "df_source1 = df_imputed.withColumn('age', col('age').cast('int'))\n",
        "df_source1 = df_source1.filter(col('age').isNotNull())\n",
        "df_source1 = df_source1.withColumn('smoke_source1', when(col('smoke').isin([0, 1]), col('smoke').cast(FloatType())).otherwise(get_smoking_udf(col('age'))))\n",
        "# df_source1.show()\n",
        "\n",
        "#source 2\n",
        "def categorize_percent2(age: int, sex: int) -> float:\n",
        "    if sex == 0:  # Female\n",
        "        if 18 <= age <= 24:\n",
        "            return .053\n",
        "        elif 25 <= age <= 44:\n",
        "            return .126\n",
        "        elif 45 <= age <= 64:\n",
        "            return .149\n",
        "        elif age >= 65:\n",
        "            return .083\n",
        "    elif sex == 1:  # Male\n",
        "        if 18 <= age <= 24:\n",
        "            return round(.053 * (.131 / .101), 3)\n",
        "        elif 25 <= age <= 44:\n",
        "            return round(.126 * (.131 / .101), 3)\n",
        "        elif 45 <= age <= 64:\n",
        "            return round(.149 * (.131 / .101), 3)\n",
        "        elif age >= 65:\n",
        "            return round(.083 * (.131 / .101), 3)\n",
        "    return None\n",
        "\n",
        "get_smoking_udf = udf(lambda age, sex: categorize_percent2(age, sex), FloatType())\n",
        "df_new = df_source1.withColumn('age', col('age').cast('int'))\n",
        "df_new = df_new.withColumn('sex', col('sex').cast('int'))\n",
        "df_new = df_new.withColumn('smoke_source2',\n",
        "                                 when(col('smoke').isin([0, 1]), col('smoke').cast(FloatType()))\n",
        "                                 .otherwise(get_smoking_udf(col('age'), col('sex'))))\n",
        "df_new = df_new.drop('smoke')\n",
        "# save the modified DataFrame\n",
        "df_new.write.mode(\"overwrite\").csv(\"heart_disease_cleaned.csv\", header=True)\n",
        "df_new.show()"
      ],
      "metadata": {
        "id": "Mvv-psxzTqQU",
        "colab": {
          "base_uri": "https://localhost:8080/"
        },
        "outputId": "5c406afc-31b4-4607-a7d1-bf8d864e4159"
      },
      "execution_count": 52,
      "outputs": [
        {
          "output_type": "stream",
          "name": "stderr",
          "text": [
            "Exception ignored in: <function JavaWrapper.__del__ at 0x7b143e203370>\n",
            "Traceback (most recent call last):\n",
            "  File \"/usr/local/lib/python3.10/dist-packages/pyspark/ml/wrapper.py\", line 53, in __del__\n",
            "    if SparkContext._active_spark_context and self._java_obj is not None:\n",
            "AttributeError: 'VectorAssembler' object has no attribute '_java_obj'\n",
            "Exception ignored in: <function JavaWrapper.__del__ at 0x7b143e203370>\n",
            "Traceback (most recent call last):\n",
            "  File \"/usr/local/lib/python3.10/dist-packages/pyspark/ml/wrapper.py\", line 53, in __del__\n",
            "    if SparkContext._active_spark_context and self._java_obj is not None:\n",
            "AttributeError: 'VectorAssembler' object has no attribute '_java_obj'\n",
            "Exception ignored in: <function JavaWrapper.__del__ at 0x7b143e203370>\n",
            "Traceback (most recent call last):\n",
            "  File \"/usr/local/lib/python3.10/dist-packages/pyspark/ml/wrapper.py\", line 53, in __del__\n",
            "    if SparkContext._active_spark_context and self._java_obj is not None:\n",
            "AttributeError: 'VectorAssembler' object has no attribute '_java_obj'\n"
          ]
        },
        {
          "output_type": "stream",
          "name": "stdout",
          "text": [
            "+---+---+-------+--------+---+--------+---+----+----+---+--------+-------+-------+-----+-------+-----+------+-------------+-------------+\n",
            "|age|sex|painloc|painexer| cp|trestbps|fbs|prop|nitr|pro|diuretic|thaldur|thalach|exang|oldpeak|slope|target|smoke_source1|smoke_source2|\n",
            "+---+---+-------+--------+---+--------+---+----+----+---+--------+-------+-------+-----+-------+-----+------+-------------+-------------+\n",
            "| 63|  1|      1|       0|  1|     145|  1|   0|   0|  0|       0|   10.5|    150|    0|    2.3|    3|     0|        0.149|        0.193|\n",
            "| 67|  1|      1|       0|  4|     160|  0|   1|   0|  0|       0|    9.5|    108|    1|    1.5|    2|     1|        0.087|        0.108|\n",
            "| 67|  1|      1|       0|  4|     120|  0|   1|   0|  0|       0|    8.5|    129|    1|    2.6|    2|     1|        0.087|        0.108|\n",
            "| 37|  1|      1|       0|  3|     130|  0|   1|   0|  0|       0|   13.0|    187|    0|    3.5|    3|     0|        0.109|        0.163|\n",
            "| 41|  0|      1|       0|  2|     130|  0|   0|   0|  0|       0|    7.0|    172|    0|    1.4|    1|     0|        0.109|        0.126|\n",
            "| 56|  1|      1|       0|  2|     120|  0|   0|   0|  0|       0|   11.3|    178|    0|    0.8|    1|     0|        0.149|        0.193|\n",
            "| 62|  0|      1|       0|  4|     140|  0|   0|   0|  0|       0|    6.0|    160|    0|    3.6|    3|     1|        0.149|        0.149|\n",
            "| 57|  0|      1|       0|  4|     120|  0|   0|   0|  0|       0|    9.0|    163|    1|    0.6|    1|     0|        0.149|        0.149|\n",
            "| 63|  1|      1|       0|  4|     130|  0|   1|   1|  0|       0|    8.0|    147|    0|    1.4|    2|     1|        0.149|        0.193|\n",
            "| 53|  1|      1|       0|  4|     140|  1|   1|   0|  0|       1|    5.5|    155|    1|    3.1|    3|     1|        0.138|        0.193|\n",
            "| 57|  1|      1|       0|  4|     140|  0|   0|   0|  0|       0|    8.2|    148|    0|    0.4|    2|     0|        0.149|        0.193|\n",
            "| 56|  0|      1|       0|  2|     140|  0|   1|   1|  0|       0|    4.5|    153|    0|    1.3|    2|     0|        0.149|        0.149|\n",
            "| 56|  1|      1|       0|  3|     130|  1|   0|   0|  0|       0|   13.0|    142|    1|    0.6|    2|     1|        0.149|        0.193|\n",
            "| 44|  1|      1|       0|  2|     120|  0|   1|   0|  0|       0|    9.3|    173|    0|    0.0|    1|     0|        0.109|        0.163|\n",
            "| 52|  1|      1|       0|  3|     172|  1|   0|   0|  0|       0|   12.5|    162|    0|    0.5|    1|     0|        0.138|        0.193|\n",
            "| 57|  1|      1|       0|  3|     150|  0|   0|   1|  0|       0|   11.0|    174|    0|    1.6|    1|     0|        0.149|        0.193|\n",
            "| 48|  1|      1|       0|  2|     110|  0|   1|   0|  0|       0|    9.8|    168|    0|    1.0|    3|     1|        0.138|        0.193|\n",
            "| 54|  1|      1|       0|  4|     140|  0|   0|   0|  0|       1|    7.8|    160|    0|    1.2|    1|     0|        0.138|        0.193|\n",
            "| 48|  0|      1|       0|  3|     130|  0|   0|   0|  0|       0|   10.0|    139|    0|    0.2|    1|     0|        0.138|        0.149|\n",
            "| 49|  1|      1|       0|  2|     130|  0|   0|   0|  0|       0|   12.0|    171|    0|    0.6|    1|     0|        0.138|        0.193|\n",
            "+---+---+-------+--------+---+--------+---+----+----+---+--------+-------+-------+-----+-------+-----+------+-------------+-------------+\n",
            "only showing top 20 rows\n",
            "\n"
          ]
        }
      ]
    },
    {
      "cell_type": "markdown",
      "source": [
        "# Training a heart disease prediction model on the data"
      ],
      "metadata": {
        "id": "0gETx2kdDM76"
      }
    },
    {
      "cell_type": "code",
      "source": [
        "from pyspark.sql.functions import col\n",
        "from pyspark.sql import functions as F\n",
        "from pyspark.sql import SparkSession\n",
        "\n",
        "# Initialize Spark session\n",
        "# spark = SparkSession.builder.appName(\"HeartDiseasePrediction\").getOrCreate()\n",
        "\n",
        "path = \"heart_disease_cleaned.csv\"\n",
        "df_new = spark.read.csv(path, header=True, inferSchema=True)\n",
        "\n",
        "# Add an index column to use for stratified sampling\n",
        "df_new = df_new.withColumn(\"index\", F.monotonically_increasing_id())\n",
        "\n",
        "# Compute the proportion of positive labels\n",
        "label_counts = df_new.groupBy('target').count().collect()\n",
        "positive_ratio = label_counts[1]['count'] / (label_counts[0]['count'] + label_counts[1]['count'])\n",
        "\n",
        "# Split the data into training and test sets with stratification\n",
        "train_df = df_new.sampleBy(\"target\", fractions={0: 0.9, 1: 0.9}, seed=42)\n",
        "test_df = df_new.subtract(train_df)\n",
        "\n",
        "train_df.show(5)\n",
        "test_df.show(5)"
      ],
      "metadata": {
        "id": "F3xgPL5Gs5wG",
        "collapsed": true,
        "colab": {
          "base_uri": "https://localhost:8080/"
        },
        "outputId": "547ea10f-b54f-4b4b-c9c8-2096598971bc"
      },
      "execution_count": 53,
      "outputs": [
        {
          "output_type": "stream",
          "name": "stdout",
          "text": [
            "+---+---+-------+--------+---+--------+---+----+----+---+--------+-------+-------+-----+-------+-----+------+-------------+-------------+-----+\n",
            "|age|sex|painloc|painexer| cp|trestbps|fbs|prop|nitr|pro|diuretic|thaldur|thalach|exang|oldpeak|slope|target|smoke_source1|smoke_source2|index|\n",
            "+---+---+-------+--------+---+--------+---+----+----+---+--------+-------+-------+-----+-------+-----+------+-------------+-------------+-----+\n",
            "| 63|  1|      1|       0|  1|     145|  1|   0|   0|  0|       0|   10.5|    150|    0|    2.3|    3|     0|        0.149|        0.193|    0|\n",
            "| 67|  1|      1|       0|  4|     160|  0|   1|   0|  0|       0|    9.5|    108|    1|    1.5|    2|     1|        0.087|        0.108|    1|\n",
            "| 67|  1|      1|       0|  4|     120|  0|   1|   0|  0|       0|    8.5|    129|    1|    2.6|    2|     1|        0.087|        0.108|    2|\n",
            "| 37|  1|      1|       0|  3|     130|  0|   1|   0|  0|       0|   13.0|    187|    0|    3.5|    3|     0|        0.109|        0.163|    3|\n",
            "| 41|  0|      1|       0|  2|     130|  0|   0|   0|  0|       0|    7.0|    172|    0|    1.4|    1|     0|        0.109|        0.126|    4|\n",
            "+---+---+-------+--------+---+--------+---+----+----+---+--------+-------+-------+-----+-------+-----+------+-------------+-------------+-----+\n",
            "only showing top 5 rows\n",
            "\n",
            "+---+---+-------+--------+---+--------+---+----+----+---+--------+-------+-------+-----+-------+-----+------+-------------+-------------+-----+\n",
            "|age|sex|painloc|painexer| cp|trestbps|fbs|prop|nitr|pro|diuretic|thaldur|thalach|exang|oldpeak|slope|target|smoke_source1|smoke_source2|index|\n",
            "+---+---+-------+--------+---+--------+---+----+----+---+--------+-------+-------+-----+-------+-----+------+-------------+-------------+-----+\n",
            "| 54|  1|      1|       0|  4|     124|  0|   1|   1|  0|       0|    5.0|    109|    1|    2.2|    2|     1|        0.138|        0.193|   55|\n",
            "| 59|  1|      1|       0|  1|     178|  0|   0|   1|  0|       0|    8.2|    145|    0|    4.0|    3|     0|        0.149|        0.193|  183|\n",
            "| 40|  1|      1|       0|  4|     152|  0|   0|   0|  0|       0|   12.0|    181|    0|    0.0|    1|     1|        0.109|        0.163|  268|\n",
            "| 60|  1|      0|       0|  2|     160|  1|   1|   1|  0|       0|    7.0|    157|    0|    0.5|    2|     1|          0.0|          0.0|  291|\n",
            "| 55|  1|      1|       1|  4|     115|  0|   0|   1|  1|       0|    9.0|    155|    0|    0.1|    2|     1|        0.149|        0.193|  789|\n",
            "+---+---+-------+--------+---+--------+---+----+----+---+--------+-------+-------+-----+-------+-----+------+-------------+-------------+-----+\n",
            "only showing top 5 rows\n",
            "\n"
          ]
        }
      ]
    },
    {
      "cell_type": "code",
      "source": [
        "from pyspark.sql import SparkSession\n",
        "from pyspark.sql.functions import col, monotonically_increasing_id\n",
        "from pyspark.ml.feature import VectorAssembler\n",
        "from pyspark.ml.classification import LogisticRegression, RandomForestClassifier, GBTClassifier\n",
        "from pyspark.ml.evaluation import BinaryClassificationEvaluator\n",
        "from pyspark.ml.tuning import CrossValidator, ParamGridBuilder\n",
        "\n",
        "# Initialize Spark session\n",
        "spark = SparkSession.builder.appName(\"HeartDiseasePrediction\").getOrCreate()\n",
        "\n",
        "# # Load data\n",
        "path = \"heart_disease_cleaned.csv\"\n",
        "df = spark.read.csv(path, header=True, inferSchema=True)\n",
        "\n",
        "#  Print the schema of the DataFrame\n",
        "df.printSchema()\n",
        "\n",
        "# Assemble feature columns into a single vector column\n",
        "feature_cols = [col for col in df_new.columns if col not in ['target', 'index']]\n",
        "print(feature_cols)\n",
        "\n",
        "\n",
        "# Logistic Regression\n",
        "assembler_lr = VectorAssembler(inputCols=feature_cols, outputCol=\"features_lr\")\n",
        "train_df_lr = assembler_lr.transform(train_df)\n",
        "test_df_lr = assembler_lr.transform(test_df)\n",
        "\n",
        "# Random Forest\n",
        "assembler_rf = VectorAssembler(inputCols=feature_cols, outputCol=\"features_rf\")\n",
        "train_df_rf = assembler_rf.transform(train_df)\n",
        "test_df_rf = assembler_rf.transform(test_df)\n",
        "\n",
        "# Gradient-Boosted Trees\n",
        "assembler_gb = VectorAssembler(inputCols=feature_cols, outputCol=\"features_gb\")\n",
        "train_df_gb = assembler_gb.transform(train_df)\n",
        "test_df_gb = assembler_gb.transform(test_df)\n",
        "\n",
        "# Define the models\n",
        "model_lr = LogisticRegression(featuresCol='features_lr', labelCol='target')\n",
        "model_rf = RandomForestClassifier(featuresCol='features_rf', labelCol='target')\n",
        "model_gb = GBTClassifier(featuresCol='features_gb', labelCol='target')\n",
        "\n",
        "# Define parameter grids\n",
        "param_grid_lr = (ParamGridBuilder()\n",
        "                 .addGrid(model_lr.regParam, [0.01, 0.1, 1])\n",
        "                 .addGrid(model_lr.elasticNetParam, [0.0, 0.5, 1.0])\n",
        "                 .build())\n",
        "\n",
        "param_grid_rf = (ParamGridBuilder()\n",
        "                 .addGrid(model_rf.numTrees, [50, 100, 200])\n",
        "                 .addGrid(model_rf.maxDepth, [5, 10, 20])\n",
        "                 .build())\n",
        "\n",
        "param_grid_gb = (ParamGridBuilder()\n",
        "                 .addGrid(model_gb.maxIter, [50, 100])\n",
        "                 .addGrid(model_gb.maxDepth, [3, 5])\n",
        "                 .addGrid(model_gb.stepSize, [0.01, 0.1])\n",
        "                 .build())\n",
        "\n",
        "# Define evaluator\n",
        "evaluator = BinaryClassificationEvaluator(labelCol='target', metricName='areaUnderROC')\n",
        "\n",
        "# Setup CrossValidator for each model\n",
        "crossval_lr = CrossValidator(estimator=model_lr, estimatorParamMaps=param_grid_lr, evaluator=evaluator, numFolds=5)\n",
        "crossval_rf = CrossValidator(estimator=model_rf, estimatorParamMaps=param_grid_rf, evaluator=evaluator, numFolds=5)\n",
        "crossval_gb = CrossValidator(estimator=model_gb, estimatorParamMaps=param_grid_gb, evaluator=evaluator, numFolds=5)\n",
        "\n",
        "# Fit CrossValidator models\n",
        "cv_model_lr = crossval_lr.fit(train_df_lr)\n",
        "cv_model_rf = crossval_rf.fit(train_df_rf)\n",
        "cv_model_gb = crossval_gb.fit(train_df_gb)\n",
        "\n",
        "# Retrieve the best models\n",
        "best_model_lr = cv_model_lr.bestModel\n",
        "best_model_rf = cv_model_rf.bestModel\n",
        "best_model_gb = cv_model_gb.bestModel\n",
        "\n",
        "# Print best models' parameters\n",
        "print(f\"Best Logistic Regression Model: {best_model_lr}\")\n",
        "print(f\"Best Random Forest Model: {best_model_rf}\")\n",
        "print(f\"Best Gradient-Boosted Trees Model: {best_model_gb}\")\n"
      ],
      "metadata": {
        "id": "7ELZLsWE95Lu",
        "outputId": "be9c8018-10da-4272-9b6b-3941521bec11",
        "colab": {
          "base_uri": "https://localhost:8080/",
          "height": 758
        }
      },
      "execution_count": 57,
      "outputs": [
        {
          "output_type": "stream",
          "name": "stdout",
          "text": [
            "root\n",
            " |-- age: integer (nullable = true)\n",
            " |-- sex: integer (nullable = true)\n",
            " |-- painloc: integer (nullable = true)\n",
            " |-- painexer: integer (nullable = true)\n",
            " |-- cp: integer (nullable = true)\n",
            " |-- trestbps: integer (nullable = true)\n",
            " |-- fbs: integer (nullable = true)\n",
            " |-- prop: integer (nullable = true)\n",
            " |-- nitr: integer (nullable = true)\n",
            " |-- pro: integer (nullable = true)\n",
            " |-- diuretic: integer (nullable = true)\n",
            " |-- thaldur: double (nullable = true)\n",
            " |-- thalach: integer (nullable = true)\n",
            " |-- exang: integer (nullable = true)\n",
            " |-- oldpeak: double (nullable = true)\n",
            " |-- slope: integer (nullable = true)\n",
            " |-- target: integer (nullable = true)\n",
            " |-- smoke_source1: double (nullable = true)\n",
            " |-- smoke_source2: double (nullable = true)\n",
            "\n",
            "['age', 'sex', 'painloc', 'painexer', 'cp', 'trestbps', 'fbs', 'prop', 'nitr', 'pro', 'diuretic', 'thaldur', 'thalach', 'exang', 'oldpeak', 'slope', 'smoke_source1', 'smoke_source2']\n"
          ]
        },
        {
          "output_type": "error",
          "ename": "AttributeError",
          "evalue": "__provides__",
          "traceback": [
            "\u001b[0;31m---------------------------------------------------------------------------\u001b[0m",
            "\u001b[0;31mAttributeError\u001b[0m                            Traceback (most recent call last)",
            "\u001b[0;32m<ipython-input-57-70410a13a21f>\u001b[0m in \u001b[0;36m<cell line: 24>\u001b[0;34m()\u001b[0m\n\u001b[1;32m     22\u001b[0m \u001b[0;34m\u001b[0m\u001b[0m\n\u001b[1;32m     23\u001b[0m \u001b[0;31m# Logistic Regression\u001b[0m\u001b[0;34m\u001b[0m\u001b[0;34m\u001b[0m\u001b[0m\n\u001b[0;32m---> 24\u001b[0;31m \u001b[0massembler_lr\u001b[0m \u001b[0;34m=\u001b[0m \u001b[0mVectorAssembler\u001b[0m\u001b[0;34m(\u001b[0m\u001b[0minputCols\u001b[0m\u001b[0;34m=\u001b[0m\u001b[0mfeature_cols\u001b[0m\u001b[0;34m,\u001b[0m \u001b[0moutputCol\u001b[0m\u001b[0;34m=\u001b[0m\u001b[0;34m\"features_lr\"\u001b[0m\u001b[0;34m)\u001b[0m\u001b[0;34m\u001b[0m\u001b[0;34m\u001b[0m\u001b[0m\n\u001b[0m\u001b[1;32m     25\u001b[0m \u001b[0mtrain_df_lr\u001b[0m \u001b[0;34m=\u001b[0m \u001b[0massembler_lr\u001b[0m\u001b[0;34m.\u001b[0m\u001b[0mtransform\u001b[0m\u001b[0;34m(\u001b[0m\u001b[0mtrain_df\u001b[0m\u001b[0;34m)\u001b[0m\u001b[0;34m\u001b[0m\u001b[0;34m\u001b[0m\u001b[0m\n\u001b[1;32m     26\u001b[0m \u001b[0mtest_df_lr\u001b[0m \u001b[0;34m=\u001b[0m \u001b[0massembler_lr\u001b[0m\u001b[0;34m.\u001b[0m\u001b[0mtransform\u001b[0m\u001b[0;34m(\u001b[0m\u001b[0mtest_df\u001b[0m\u001b[0;34m)\u001b[0m\u001b[0;34m\u001b[0m\u001b[0;34m\u001b[0m\u001b[0m\n",
            "\u001b[0;32m/usr/local/lib/python3.10/dist-packages/pyspark/__init__.py\u001b[0m in \u001b[0;36mwrapper\u001b[0;34m(self, *args, **kwargs)\u001b[0m\n\u001b[1;32m    137\u001b[0m             \u001b[0;32mraise\u001b[0m \u001b[0mTypeError\u001b[0m\u001b[0;34m(\u001b[0m\u001b[0;34m\"Method %s forces keyword arguments.\"\u001b[0m \u001b[0;34m%\u001b[0m \u001b[0mfunc\u001b[0m\u001b[0;34m.\u001b[0m\u001b[0m__name__\u001b[0m\u001b[0;34m)\u001b[0m\u001b[0;34m\u001b[0m\u001b[0;34m\u001b[0m\u001b[0m\n\u001b[1;32m    138\u001b[0m         \u001b[0mself\u001b[0m\u001b[0;34m.\u001b[0m\u001b[0m_input_kwargs\u001b[0m \u001b[0;34m=\u001b[0m \u001b[0mkwargs\u001b[0m\u001b[0;34m\u001b[0m\u001b[0;34m\u001b[0m\u001b[0m\n\u001b[0;32m--> 139\u001b[0;31m         \u001b[0;32mreturn\u001b[0m \u001b[0mfunc\u001b[0m\u001b[0;34m(\u001b[0m\u001b[0mself\u001b[0m\u001b[0;34m,\u001b[0m \u001b[0;34m**\u001b[0m\u001b[0mkwargs\u001b[0m\u001b[0;34m)\u001b[0m\u001b[0;34m\u001b[0m\u001b[0;34m\u001b[0m\u001b[0m\n\u001b[0m\u001b[1;32m    140\u001b[0m \u001b[0;34m\u001b[0m\u001b[0m\n\u001b[1;32m    141\u001b[0m     \u001b[0;32mreturn\u001b[0m \u001b[0mcast\u001b[0m\u001b[0;34m(\u001b[0m\u001b[0m_F\u001b[0m\u001b[0;34m,\u001b[0m \u001b[0mwrapper\u001b[0m\u001b[0;34m)\u001b[0m\u001b[0;34m\u001b[0m\u001b[0;34m\u001b[0m\u001b[0m\n",
            "\u001b[0;32m/usr/local/lib/python3.10/dist-packages/pyspark/ml/feature.py\u001b[0m in \u001b[0;36m__init__\u001b[0;34m(self, inputCols, outputCol, handleInvalid)\u001b[0m\n\u001b[1;32m   5355\u001b[0m         \u001b[0m__init__\u001b[0m\u001b[0;34m(\u001b[0m\u001b[0mself\u001b[0m\u001b[0;34m,\u001b[0m\u001b[0;31m \u001b[0m\u001b[0;31m\\\u001b[0m\u001b[0;31m\\\u001b[0m\u001b[0;34m*\u001b[0m\u001b[0;34m,\u001b[0m \u001b[0minputCols\u001b[0m\u001b[0;34m=\u001b[0m\u001b[0;32mNone\u001b[0m\u001b[0;34m,\u001b[0m \u001b[0moutputCol\u001b[0m\u001b[0;34m=\u001b[0m\u001b[0;32mNone\u001b[0m\u001b[0;34m,\u001b[0m \u001b[0mhandleInvalid\u001b[0m\u001b[0;34m=\u001b[0m\u001b[0;34m\"error\"\u001b[0m\u001b[0;34m)\u001b[0m\u001b[0;34m\u001b[0m\u001b[0;34m\u001b[0m\u001b[0m\n\u001b[1;32m   5356\u001b[0m         \"\"\"\n\u001b[0;32m-> 5357\u001b[0;31m         \u001b[0msuper\u001b[0m\u001b[0;34m(\u001b[0m\u001b[0mVectorAssembler\u001b[0m\u001b[0;34m,\u001b[0m \u001b[0mself\u001b[0m\u001b[0;34m)\u001b[0m\u001b[0;34m.\u001b[0m\u001b[0m__init__\u001b[0m\u001b[0;34m(\u001b[0m\u001b[0;34m)\u001b[0m\u001b[0;34m\u001b[0m\u001b[0;34m\u001b[0m\u001b[0m\n\u001b[0m\u001b[1;32m   5358\u001b[0m         \u001b[0mself\u001b[0m\u001b[0;34m.\u001b[0m\u001b[0m_java_obj\u001b[0m \u001b[0;34m=\u001b[0m \u001b[0mself\u001b[0m\u001b[0;34m.\u001b[0m\u001b[0m_new_java_obj\u001b[0m\u001b[0;34m(\u001b[0m\u001b[0;34m\"org.apache.spark.ml.feature.VectorAssembler\"\u001b[0m\u001b[0;34m,\u001b[0m \u001b[0mself\u001b[0m\u001b[0;34m.\u001b[0m\u001b[0muid\u001b[0m\u001b[0;34m)\u001b[0m\u001b[0;34m\u001b[0m\u001b[0;34m\u001b[0m\u001b[0m\n\u001b[1;32m   5359\u001b[0m         \u001b[0mself\u001b[0m\u001b[0;34m.\u001b[0m\u001b[0m_setDefault\u001b[0m\u001b[0;34m(\u001b[0m\u001b[0mhandleInvalid\u001b[0m\u001b[0;34m=\u001b[0m\u001b[0;34m\"error\"\u001b[0m\u001b[0;34m)\u001b[0m\u001b[0;34m\u001b[0m\u001b[0;34m\u001b[0m\u001b[0m\n",
            "\u001b[0;32m/usr/local/lib/python3.10/dist-packages/pyspark/ml/wrapper.py\u001b[0m in \u001b[0;36m__init__\u001b[0;34m(self, java_obj)\u001b[0m\n\u001b[1;32m     47\u001b[0m \u001b[0;34m\u001b[0m\u001b[0m\n\u001b[1;32m     48\u001b[0m     \u001b[0;32mdef\u001b[0m \u001b[0m__init__\u001b[0m\u001b[0;34m(\u001b[0m\u001b[0mself\u001b[0m\u001b[0;34m,\u001b[0m \u001b[0mjava_obj\u001b[0m\u001b[0;34m:\u001b[0m \u001b[0mOptional\u001b[0m\u001b[0;34m[\u001b[0m\u001b[0;34m\"JavaObject\"\u001b[0m\u001b[0;34m]\u001b[0m \u001b[0;34m=\u001b[0m \u001b[0;32mNone\u001b[0m\u001b[0;34m)\u001b[0m\u001b[0;34m:\u001b[0m\u001b[0;34m\u001b[0m\u001b[0;34m\u001b[0m\u001b[0m\n\u001b[0;32m---> 49\u001b[0;31m         \u001b[0msuper\u001b[0m\u001b[0;34m(\u001b[0m\u001b[0mJavaWrapper\u001b[0m\u001b[0;34m,\u001b[0m \u001b[0mself\u001b[0m\u001b[0;34m)\u001b[0m\u001b[0;34m.\u001b[0m\u001b[0m__init__\u001b[0m\u001b[0;34m(\u001b[0m\u001b[0;34m)\u001b[0m\u001b[0;34m\u001b[0m\u001b[0;34m\u001b[0m\u001b[0m\n\u001b[0m\u001b[1;32m     50\u001b[0m         \u001b[0mself\u001b[0m\u001b[0;34m.\u001b[0m\u001b[0m_java_obj\u001b[0m \u001b[0;34m=\u001b[0m \u001b[0mjava_obj\u001b[0m\u001b[0;34m\u001b[0m\u001b[0;34m\u001b[0m\u001b[0m\n\u001b[1;32m     51\u001b[0m \u001b[0;34m\u001b[0m\u001b[0m\n",
            "\u001b[0;32m/usr/local/lib/python3.10/dist-packages/pyspark/ml/param/shared.py\u001b[0m in \u001b[0;36m__init__\u001b[0;34m(self)\u001b[0m\n\u001b[1;32m    217\u001b[0m \u001b[0;34m\u001b[0m\u001b[0m\n\u001b[1;32m    218\u001b[0m     \u001b[0;32mdef\u001b[0m \u001b[0m__init__\u001b[0m\u001b[0;34m(\u001b[0m\u001b[0mself\u001b[0m\u001b[0;34m)\u001b[0m \u001b[0;34m->\u001b[0m \u001b[0;32mNone\u001b[0m\u001b[0;34m:\u001b[0m\u001b[0;34m\u001b[0m\u001b[0;34m\u001b[0m\u001b[0m\n\u001b[0;32m--> 219\u001b[0;31m         \u001b[0msuper\u001b[0m\u001b[0;34m(\u001b[0m\u001b[0mHasInputCols\u001b[0m\u001b[0;34m,\u001b[0m \u001b[0mself\u001b[0m\u001b[0;34m)\u001b[0m\u001b[0;34m.\u001b[0m\u001b[0m__init__\u001b[0m\u001b[0;34m(\u001b[0m\u001b[0;34m)\u001b[0m\u001b[0;34m\u001b[0m\u001b[0;34m\u001b[0m\u001b[0m\n\u001b[0m\u001b[1;32m    220\u001b[0m \u001b[0;34m\u001b[0m\u001b[0m\n\u001b[1;32m    221\u001b[0m     \u001b[0;32mdef\u001b[0m \u001b[0mgetInputCols\u001b[0m\u001b[0;34m(\u001b[0m\u001b[0mself\u001b[0m\u001b[0;34m)\u001b[0m \u001b[0;34m->\u001b[0m \u001b[0mList\u001b[0m\u001b[0;34m[\u001b[0m\u001b[0mstr\u001b[0m\u001b[0;34m]\u001b[0m\u001b[0;34m:\u001b[0m\u001b[0;34m\u001b[0m\u001b[0;34m\u001b[0m\u001b[0m\n",
            "\u001b[0;32m/usr/local/lib/python3.10/dist-packages/pyspark/ml/param/shared.py\u001b[0m in \u001b[0;36m__init__\u001b[0;34m(self)\u001b[0m\n\u001b[1;32m    239\u001b[0m \u001b[0;34m\u001b[0m\u001b[0m\n\u001b[1;32m    240\u001b[0m     \u001b[0;32mdef\u001b[0m \u001b[0m__init__\u001b[0m\u001b[0;34m(\u001b[0m\u001b[0mself\u001b[0m\u001b[0;34m)\u001b[0m \u001b[0;34m->\u001b[0m \u001b[0;32mNone\u001b[0m\u001b[0;34m:\u001b[0m\u001b[0;34m\u001b[0m\u001b[0;34m\u001b[0m\u001b[0m\n\u001b[0;32m--> 241\u001b[0;31m         \u001b[0msuper\u001b[0m\u001b[0;34m(\u001b[0m\u001b[0mHasOutputCol\u001b[0m\u001b[0;34m,\u001b[0m \u001b[0mself\u001b[0m\u001b[0;34m)\u001b[0m\u001b[0;34m.\u001b[0m\u001b[0m__init__\u001b[0m\u001b[0;34m(\u001b[0m\u001b[0;34m)\u001b[0m\u001b[0;34m\u001b[0m\u001b[0;34m\u001b[0m\u001b[0m\n\u001b[0m\u001b[1;32m    242\u001b[0m         \u001b[0mself\u001b[0m\u001b[0;34m.\u001b[0m\u001b[0m_setDefault\u001b[0m\u001b[0;34m(\u001b[0m\u001b[0moutputCol\u001b[0m\u001b[0;34m=\u001b[0m\u001b[0mself\u001b[0m\u001b[0;34m.\u001b[0m\u001b[0muid\u001b[0m \u001b[0;34m+\u001b[0m \u001b[0;34m\"__output\"\u001b[0m\u001b[0;34m)\u001b[0m\u001b[0;34m\u001b[0m\u001b[0;34m\u001b[0m\u001b[0m\n\u001b[1;32m    243\u001b[0m \u001b[0;34m\u001b[0m\u001b[0m\n",
            "\u001b[0;32m/usr/local/lib/python3.10/dist-packages/pyspark/ml/param/shared.py\u001b[0m in \u001b[0;36m__init__\u001b[0;34m(self)\u001b[0m\n\u001b[1;32m    419\u001b[0m \u001b[0;34m\u001b[0m\u001b[0m\n\u001b[1;32m    420\u001b[0m     \u001b[0;32mdef\u001b[0m \u001b[0m__init__\u001b[0m\u001b[0;34m(\u001b[0m\u001b[0mself\u001b[0m\u001b[0;34m)\u001b[0m \u001b[0;34m->\u001b[0m \u001b[0;32mNone\u001b[0m\u001b[0;34m:\u001b[0m\u001b[0;34m\u001b[0m\u001b[0;34m\u001b[0m\u001b[0m\n\u001b[0;32m--> 421\u001b[0;31m         \u001b[0msuper\u001b[0m\u001b[0;34m(\u001b[0m\u001b[0mHasHandleInvalid\u001b[0m\u001b[0;34m,\u001b[0m \u001b[0mself\u001b[0m\u001b[0;34m)\u001b[0m\u001b[0;34m.\u001b[0m\u001b[0m__init__\u001b[0m\u001b[0;34m(\u001b[0m\u001b[0;34m)\u001b[0m\u001b[0;34m\u001b[0m\u001b[0;34m\u001b[0m\u001b[0m\n\u001b[0m\u001b[1;32m    422\u001b[0m \u001b[0;34m\u001b[0m\u001b[0m\n\u001b[1;32m    423\u001b[0m     \u001b[0;32mdef\u001b[0m \u001b[0mgetHandleInvalid\u001b[0m\u001b[0;34m(\u001b[0m\u001b[0mself\u001b[0m\u001b[0;34m)\u001b[0m \u001b[0;34m->\u001b[0m \u001b[0mstr\u001b[0m\u001b[0;34m:\u001b[0m\u001b[0;34m\u001b[0m\u001b[0;34m\u001b[0m\u001b[0m\n",
            "\u001b[0;32m/usr/local/lib/python3.10/dist-packages/pyspark/ml/param/__init__.py\u001b[0m in \u001b[0;36m__init__\u001b[0;34m(self)\u001b[0m\n\u001b[1;32m    267\u001b[0m \u001b[0;34m\u001b[0m\u001b[0m\n\u001b[1;32m    268\u001b[0m         \u001b[0;31m# Copy the params from the class to the object\u001b[0m\u001b[0;34m\u001b[0m\u001b[0;34m\u001b[0m\u001b[0m\n\u001b[0;32m--> 269\u001b[0;31m         \u001b[0mself\u001b[0m\u001b[0;34m.\u001b[0m\u001b[0m_copy_params\u001b[0m\u001b[0;34m(\u001b[0m\u001b[0;34m)\u001b[0m\u001b[0;34m\u001b[0m\u001b[0;34m\u001b[0m\u001b[0m\n\u001b[0m\u001b[1;32m    270\u001b[0m \u001b[0;34m\u001b[0m\u001b[0m\n\u001b[1;32m    271\u001b[0m     \u001b[0;32mdef\u001b[0m \u001b[0m_copy_params\u001b[0m\u001b[0;34m(\u001b[0m\u001b[0mself\u001b[0m\u001b[0;34m)\u001b[0m \u001b[0;34m->\u001b[0m \u001b[0;32mNone\u001b[0m\u001b[0;34m:\u001b[0m\u001b[0;34m\u001b[0m\u001b[0;34m\u001b[0m\u001b[0m\n",
            "\u001b[0;32m/usr/local/lib/python3.10/dist-packages/pyspark/ml/param/__init__.py\u001b[0m in \u001b[0;36m_copy_params\u001b[0;34m(self)\u001b[0m\n\u001b[1;32m    274\u001b[0m         \"\"\"\n\u001b[1;32m    275\u001b[0m         \u001b[0mcls\u001b[0m \u001b[0;34m=\u001b[0m \u001b[0mtype\u001b[0m\u001b[0;34m(\u001b[0m\u001b[0mself\u001b[0m\u001b[0;34m)\u001b[0m\u001b[0;34m\u001b[0m\u001b[0;34m\u001b[0m\u001b[0m\n\u001b[0;32m--> 276\u001b[0;31m         \u001b[0msrc_name_attrs\u001b[0m \u001b[0;34m=\u001b[0m \u001b[0;34m[\u001b[0m\u001b[0;34m(\u001b[0m\u001b[0mx\u001b[0m\u001b[0;34m,\u001b[0m \u001b[0mgetattr\u001b[0m\u001b[0;34m(\u001b[0m\u001b[0mcls\u001b[0m\u001b[0;34m,\u001b[0m \u001b[0mx\u001b[0m\u001b[0;34m)\u001b[0m\u001b[0;34m)\u001b[0m \u001b[0;32mfor\u001b[0m \u001b[0mx\u001b[0m \u001b[0;32min\u001b[0m \u001b[0mdir\u001b[0m\u001b[0;34m(\u001b[0m\u001b[0mcls\u001b[0m\u001b[0;34m)\u001b[0m\u001b[0;34m]\u001b[0m\u001b[0;34m\u001b[0m\u001b[0;34m\u001b[0m\u001b[0m\n\u001b[0m\u001b[1;32m    277\u001b[0m         \u001b[0msrc_params\u001b[0m \u001b[0;34m=\u001b[0m \u001b[0mlist\u001b[0m\u001b[0;34m(\u001b[0m\u001b[0mfilter\u001b[0m\u001b[0;34m(\u001b[0m\u001b[0;32mlambda\u001b[0m \u001b[0mnameAttr\u001b[0m\u001b[0;34m:\u001b[0m \u001b[0misinstance\u001b[0m\u001b[0;34m(\u001b[0m\u001b[0mnameAttr\u001b[0m\u001b[0;34m[\u001b[0m\u001b[0;36m1\u001b[0m\u001b[0;34m]\u001b[0m\u001b[0;34m,\u001b[0m \u001b[0mParam\u001b[0m\u001b[0;34m)\u001b[0m\u001b[0;34m,\u001b[0m \u001b[0msrc_name_attrs\u001b[0m\u001b[0;34m)\u001b[0m\u001b[0;34m)\u001b[0m\u001b[0;34m\u001b[0m\u001b[0;34m\u001b[0m\u001b[0m\n\u001b[1;32m    278\u001b[0m         \u001b[0;32mfor\u001b[0m \u001b[0mname\u001b[0m\u001b[0;34m,\u001b[0m \u001b[0mparam\u001b[0m \u001b[0;32min\u001b[0m \u001b[0msrc_params\u001b[0m\u001b[0;34m:\u001b[0m\u001b[0;34m\u001b[0m\u001b[0;34m\u001b[0m\u001b[0m\n",
            "\u001b[0;32m/usr/local/lib/python3.10/dist-packages/pyspark/ml/param/__init__.py\u001b[0m in \u001b[0;36m<listcomp>\u001b[0;34m(.0)\u001b[0m\n\u001b[1;32m    274\u001b[0m         \"\"\"\n\u001b[1;32m    275\u001b[0m         \u001b[0mcls\u001b[0m \u001b[0;34m=\u001b[0m \u001b[0mtype\u001b[0m\u001b[0;34m(\u001b[0m\u001b[0mself\u001b[0m\u001b[0;34m)\u001b[0m\u001b[0;34m\u001b[0m\u001b[0;34m\u001b[0m\u001b[0m\n\u001b[0;32m--> 276\u001b[0;31m         \u001b[0msrc_name_attrs\u001b[0m \u001b[0;34m=\u001b[0m \u001b[0;34m[\u001b[0m\u001b[0;34m(\u001b[0m\u001b[0mx\u001b[0m\u001b[0;34m,\u001b[0m \u001b[0mgetattr\u001b[0m\u001b[0;34m(\u001b[0m\u001b[0mcls\u001b[0m\u001b[0;34m,\u001b[0m \u001b[0mx\u001b[0m\u001b[0;34m)\u001b[0m\u001b[0;34m)\u001b[0m \u001b[0;32mfor\u001b[0m \u001b[0mx\u001b[0m \u001b[0;32min\u001b[0m \u001b[0mdir\u001b[0m\u001b[0;34m(\u001b[0m\u001b[0mcls\u001b[0m\u001b[0;34m)\u001b[0m\u001b[0;34m]\u001b[0m\u001b[0;34m\u001b[0m\u001b[0;34m\u001b[0m\u001b[0m\n\u001b[0m\u001b[1;32m    277\u001b[0m         \u001b[0msrc_params\u001b[0m \u001b[0;34m=\u001b[0m \u001b[0mlist\u001b[0m\u001b[0;34m(\u001b[0m\u001b[0mfilter\u001b[0m\u001b[0;34m(\u001b[0m\u001b[0;32mlambda\u001b[0m \u001b[0mnameAttr\u001b[0m\u001b[0;34m:\u001b[0m \u001b[0misinstance\u001b[0m\u001b[0;34m(\u001b[0m\u001b[0mnameAttr\u001b[0m\u001b[0;34m[\u001b[0m\u001b[0;36m1\u001b[0m\u001b[0;34m]\u001b[0m\u001b[0;34m,\u001b[0m \u001b[0mParam\u001b[0m\u001b[0;34m)\u001b[0m\u001b[0;34m,\u001b[0m \u001b[0msrc_name_attrs\u001b[0m\u001b[0;34m)\u001b[0m\u001b[0;34m)\u001b[0m\u001b[0;34m\u001b[0m\u001b[0;34m\u001b[0m\u001b[0m\n\u001b[1;32m    278\u001b[0m         \u001b[0;32mfor\u001b[0m \u001b[0mname\u001b[0m\u001b[0;34m,\u001b[0m \u001b[0mparam\u001b[0m \u001b[0;32min\u001b[0m \u001b[0msrc_params\u001b[0m\u001b[0;34m:\u001b[0m\u001b[0;34m\u001b[0m\u001b[0;34m\u001b[0m\u001b[0m\n",
            "\u001b[0;31mAttributeError\u001b[0m: __provides__"
          ]
        }
      ]
    }
  ]
}